{
  "nbformat": 4,
  "nbformat_minor": 0,
  "metadata": {
    "colab": {
      "name": "Stroke-analysis-step-by-step.ipynb",
      "provenance": [],
      "collapsed_sections": [],
      "authorship_tag": "ABX9TyP78IWqQcT1nkO2DIZIh0qH",
      "include_colab_link": true
    },
    "kernelspec": {
      "name": "python3",
      "display_name": "Python 3"
    },
    "language_info": {
      "name": "python"
    }
  },
  "cells": [
    {
      "cell_type": "markdown",
      "metadata": {
        "id": "view-in-github",
        "colab_type": "text"
      },
      "source": [
        "<a href=\"https://colab.research.google.com/github/sanjay-sss/Stroke-Analysis-EDA-MODELLING/blob/main/%20Stroke-Analysis-EDA-MODELLING/CODE/Stroke_analysis_step_by_step.ipynb\" target=\"_parent\"><img src=\"https://colab.research.google.com/assets/colab-badge.svg\" alt=\"Open In Colab\"/></a>"
      ]
    },
    {
      "cell_type": "markdown",
      "source": [
        "**AIM:** \n",
        "\n",
        "OUR AIM IS TO PREDICT WHETHER A PERSON HAD A STROKE OR NOT BASED ON THE FOLLOWING FEATURES:\n",
        "\n",
        "id: unique identifier\n",
        "\n",
        "gender: \"Male\", \"Female\" or \"Other\"\n",
        "\n",
        "age: age of the patient\n",
        "\n",
        "hypertension: 0 if the patient doesn't have hypertension, 1 if the patient has hypertension\n",
        "\n",
        "heart_disease: 0 if the patient doesn't have any heart diseases, 1 if the patient has a heart disease\n",
        "\n",
        "ever_married: \"No\" or \"Yes\"\n",
        "\n",
        "work_type: \"children\", \"Govt_jov\", \"Never_worked\", \"Private\" or \"Self-employed\"\n",
        "Residence_type: \"Rural\" or \"Urban\"\n",
        "\n",
        "avg_glucose_level: average glucose level in blood\n",
        "bmi: body mass index\n",
        "\n",
        "smoking_status: \"formerly smoked\", \"never smoked\", \"smokes\" or \"Unknown\""
      ],
      "metadata": {
        "id": "XHWx2Q-MqWLR"
      }
    },
    {
      "cell_type": "markdown",
      "source": [
        "**STEPS WE SHOULD FOLLOW WHILE WORKING ON ML DATASET**\n",
        "\n",
        "In this Notebook,I have worked on the Exploratory Data Analysis or EDA of the stroke risk dataset. Exploratory Data Analysis or EDA is a first step in analysing a new dataset. The primary objective of EDA is to analyse the data for distribution, outliers and anomalies in the dataset. It includes analysing the data to find the distribution of data, its main characteristics, identifying patterns and visualizations. It also provides tools for hypothesis generation by visualizing and understanding the data through graphical representation.\n",
        "\n",
        "Feature Engineering is the **Second** Step one should follow while doing any Machine Learning Project. In this step we perform the following things:\n",
        "\n",
        "**1)**Handle the Missing Values if any\n",
        "\n",
        "**2)**Handling the Outliers.\n",
        "\n",
        "**3)**Handling the Categorical Data\n",
        "\n",
        "**4)**Normalizing the Data for further Model building\n",
        "\n",
        "The **third** Step is Feature Selection. In this step we use some techniques to identify the important and unnecessary features to feed to our model.\n",
        "\n",
        "The **Final step** I performed is Building Machine Learning Models: Random Forest, XGBOOST,SVC,Logistic Regression\n",
        "\n",
        "If the Accuracy is NOT SATISFYING, then we perform Hyper-Parameter Tuning to enhance the performance of our Model"
      ],
      "metadata": {
        "id": "vfpaSnSVqgJP"
      }
    },
    {
      "cell_type": "markdown",
      "source": [
        "**IMPORT REQUIRED LIBRARIES**\n"
      ],
      "metadata": {
        "id": "XtByOFmJqjPH"
      }
    },
    {
      "cell_type": "code",
      "source": [
        "import pandas as pd\n",
        "import matplotlib.pyplot as plt\n",
        "%matplotlib inline\n",
        "import seaborn as sns\n",
        "\n",
        "import warnings\n",
        "warnings.filterwarnings(\"ignore\")"
      ],
      "metadata": {
        "id": "kCjXWjylrZFv"
      },
      "execution_count": 10,
      "outputs": []
    },
    {
      "cell_type": "code",
      "source": [
        "from google.colab import drive\n",
        "drive.mount('/content/drive')"
      ],
      "metadata": {
        "colab": {
          "base_uri": "https://localhost:8080/"
        },
        "id": "oOs1VDB1rqxL",
        "outputId": "840696d1-5572-4cd2-a12f-6919c757454f"
      },
      "execution_count": 11,
      "outputs": [
        {
          "output_type": "stream",
          "name": "stdout",
          "text": [
            "Drive already mounted at /content/drive; to attempt to forcibly remount, call drive.mount(\"/content/drive\", force_remount=True).\n"
          ]
        }
      ]
    },
    {
      "cell_type": "code",
      "source": [
        "df = pd.read_csv('/content/drive/My Drive/dataset/healthcare-dataset-stroke-data.csv')\n",
        "stroke=df"
      ],
      "metadata": {
        "id": "qH5CLOc0rgCQ"
      },
      "execution_count": 12,
      "outputs": []
    },
    {
      "cell_type": "code",
      "source": [
        "#GET THE FIRST 5 ROWS:\n",
        "df.head()"
      ],
      "metadata": {
        "colab": {
          "base_uri": "https://localhost:8080/",
          "height": 206
        },
        "id": "9ti_Wpd-r3Xb",
        "outputId": "4f09b1a0-f3e8-47da-c0dd-b20e4adaaed0"
      },
      "execution_count": 13,
      "outputs": [
        {
          "output_type": "execute_result",
          "data": {
            "text/html": [
              "\n",
              "  <div id=\"df-9ecc05e2-d9f9-4c3b-bb31-11f7a96be54a\">\n",
              "    <div class=\"colab-df-container\">\n",
              "      <div>\n",
              "<style scoped>\n",
              "    .dataframe tbody tr th:only-of-type {\n",
              "        vertical-align: middle;\n",
              "    }\n",
              "\n",
              "    .dataframe tbody tr th {\n",
              "        vertical-align: top;\n",
              "    }\n",
              "\n",
              "    .dataframe thead th {\n",
              "        text-align: right;\n",
              "    }\n",
              "</style>\n",
              "<table border=\"1\" class=\"dataframe\">\n",
              "  <thead>\n",
              "    <tr style=\"text-align: right;\">\n",
              "      <th></th>\n",
              "      <th>id</th>\n",
              "      <th>gender</th>\n",
              "      <th>age</th>\n",
              "      <th>hypertension</th>\n",
              "      <th>heart_disease</th>\n",
              "      <th>ever_married</th>\n",
              "      <th>work_type</th>\n",
              "      <th>Residence_type</th>\n",
              "      <th>avg_glucose_level</th>\n",
              "      <th>bmi</th>\n",
              "      <th>smoking_status</th>\n",
              "      <th>stroke</th>\n",
              "    </tr>\n",
              "  </thead>\n",
              "  <tbody>\n",
              "    <tr>\n",
              "      <th>0</th>\n",
              "      <td>9046</td>\n",
              "      <td>Male</td>\n",
              "      <td>67.0</td>\n",
              "      <td>0</td>\n",
              "      <td>1</td>\n",
              "      <td>Yes</td>\n",
              "      <td>Private</td>\n",
              "      <td>Urban</td>\n",
              "      <td>228.69</td>\n",
              "      <td>36.6</td>\n",
              "      <td>formerly smoked</td>\n",
              "      <td>1</td>\n",
              "    </tr>\n",
              "    <tr>\n",
              "      <th>1</th>\n",
              "      <td>51676</td>\n",
              "      <td>Female</td>\n",
              "      <td>61.0</td>\n",
              "      <td>0</td>\n",
              "      <td>0</td>\n",
              "      <td>Yes</td>\n",
              "      <td>Self-employed</td>\n",
              "      <td>Rural</td>\n",
              "      <td>202.21</td>\n",
              "      <td>NaN</td>\n",
              "      <td>never smoked</td>\n",
              "      <td>1</td>\n",
              "    </tr>\n",
              "    <tr>\n",
              "      <th>2</th>\n",
              "      <td>31112</td>\n",
              "      <td>Male</td>\n",
              "      <td>80.0</td>\n",
              "      <td>0</td>\n",
              "      <td>1</td>\n",
              "      <td>Yes</td>\n",
              "      <td>Private</td>\n",
              "      <td>Rural</td>\n",
              "      <td>105.92</td>\n",
              "      <td>32.5</td>\n",
              "      <td>never smoked</td>\n",
              "      <td>1</td>\n",
              "    </tr>\n",
              "    <tr>\n",
              "      <th>3</th>\n",
              "      <td>60182</td>\n",
              "      <td>Female</td>\n",
              "      <td>49.0</td>\n",
              "      <td>0</td>\n",
              "      <td>0</td>\n",
              "      <td>Yes</td>\n",
              "      <td>Private</td>\n",
              "      <td>Urban</td>\n",
              "      <td>171.23</td>\n",
              "      <td>34.4</td>\n",
              "      <td>smokes</td>\n",
              "      <td>1</td>\n",
              "    </tr>\n",
              "    <tr>\n",
              "      <th>4</th>\n",
              "      <td>1665</td>\n",
              "      <td>Female</td>\n",
              "      <td>79.0</td>\n",
              "      <td>1</td>\n",
              "      <td>0</td>\n",
              "      <td>Yes</td>\n",
              "      <td>Self-employed</td>\n",
              "      <td>Rural</td>\n",
              "      <td>174.12</td>\n",
              "      <td>24.0</td>\n",
              "      <td>never smoked</td>\n",
              "      <td>1</td>\n",
              "    </tr>\n",
              "  </tbody>\n",
              "</table>\n",
              "</div>\n",
              "      <button class=\"colab-df-convert\" onclick=\"convertToInteractive('df-9ecc05e2-d9f9-4c3b-bb31-11f7a96be54a')\"\n",
              "              title=\"Convert this dataframe to an interactive table.\"\n",
              "              style=\"display:none;\">\n",
              "        \n",
              "  <svg xmlns=\"http://www.w3.org/2000/svg\" height=\"24px\"viewBox=\"0 0 24 24\"\n",
              "       width=\"24px\">\n",
              "    <path d=\"M0 0h24v24H0V0z\" fill=\"none\"/>\n",
              "    <path d=\"M18.56 5.44l.94 2.06.94-2.06 2.06-.94-2.06-.94-.94-2.06-.94 2.06-2.06.94zm-11 1L8.5 8.5l.94-2.06 2.06-.94-2.06-.94L8.5 2.5l-.94 2.06-2.06.94zm10 10l.94 2.06.94-2.06 2.06-.94-2.06-.94-.94-2.06-.94 2.06-2.06.94z\"/><path d=\"M17.41 7.96l-1.37-1.37c-.4-.4-.92-.59-1.43-.59-.52 0-1.04.2-1.43.59L10.3 9.45l-7.72 7.72c-.78.78-.78 2.05 0 2.83L4 21.41c.39.39.9.59 1.41.59.51 0 1.02-.2 1.41-.59l7.78-7.78 2.81-2.81c.8-.78.8-2.07 0-2.86zM5.41 20L4 18.59l7.72-7.72 1.47 1.35L5.41 20z\"/>\n",
              "  </svg>\n",
              "      </button>\n",
              "      \n",
              "  <style>\n",
              "    .colab-df-container {\n",
              "      display:flex;\n",
              "      flex-wrap:wrap;\n",
              "      gap: 12px;\n",
              "    }\n",
              "\n",
              "    .colab-df-convert {\n",
              "      background-color: #E8F0FE;\n",
              "      border: none;\n",
              "      border-radius: 50%;\n",
              "      cursor: pointer;\n",
              "      display: none;\n",
              "      fill: #1967D2;\n",
              "      height: 32px;\n",
              "      padding: 0 0 0 0;\n",
              "      width: 32px;\n",
              "    }\n",
              "\n",
              "    .colab-df-convert:hover {\n",
              "      background-color: #E2EBFA;\n",
              "      box-shadow: 0px 1px 2px rgba(60, 64, 67, 0.3), 0px 1px 3px 1px rgba(60, 64, 67, 0.15);\n",
              "      fill: #174EA6;\n",
              "    }\n",
              "\n",
              "    [theme=dark] .colab-df-convert {\n",
              "      background-color: #3B4455;\n",
              "      fill: #D2E3FC;\n",
              "    }\n",
              "\n",
              "    [theme=dark] .colab-df-convert:hover {\n",
              "      background-color: #434B5C;\n",
              "      box-shadow: 0px 1px 3px 1px rgba(0, 0, 0, 0.15);\n",
              "      filter: drop-shadow(0px 1px 2px rgba(0, 0, 0, 0.3));\n",
              "      fill: #FFFFFF;\n",
              "    }\n",
              "  </style>\n",
              "\n",
              "      <script>\n",
              "        const buttonEl =\n",
              "          document.querySelector('#df-9ecc05e2-d9f9-4c3b-bb31-11f7a96be54a button.colab-df-convert');\n",
              "        buttonEl.style.display =\n",
              "          google.colab.kernel.accessAllowed ? 'block' : 'none';\n",
              "\n",
              "        async function convertToInteractive(key) {\n",
              "          const element = document.querySelector('#df-9ecc05e2-d9f9-4c3b-bb31-11f7a96be54a');\n",
              "          const dataTable =\n",
              "            await google.colab.kernel.invokeFunction('convertToInteractive',\n",
              "                                                     [key], {});\n",
              "          if (!dataTable) return;\n",
              "\n",
              "          const docLinkHtml = 'Like what you see? Visit the ' +\n",
              "            '<a target=\"_blank\" href=https://colab.research.google.com/notebooks/data_table.ipynb>data table notebook</a>'\n",
              "            + ' to learn more about interactive tables.';\n",
              "          element.innerHTML = '';\n",
              "          dataTable['output_type'] = 'display_data';\n",
              "          await google.colab.output.renderOutput(dataTable, element);\n",
              "          const docLink = document.createElement('div');\n",
              "          docLink.innerHTML = docLinkHtml;\n",
              "          element.appendChild(docLink);\n",
              "        }\n",
              "      </script>\n",
              "    </div>\n",
              "  </div>\n",
              "  "
            ],
            "text/plain": [
              "      id  gender   age  ...   bmi   smoking_status stroke\n",
              "0   9046    Male  67.0  ...  36.6  formerly smoked      1\n",
              "1  51676  Female  61.0  ...   NaN     never smoked      1\n",
              "2  31112    Male  80.0  ...  32.5     never smoked      1\n",
              "3  60182  Female  49.0  ...  34.4           smokes      1\n",
              "4   1665  Female  79.0  ...  24.0     never smoked      1\n",
              "\n",
              "[5 rows x 12 columns]"
            ]
          },
          "metadata": {},
          "execution_count": 13
        }
      ]
    },
    {
      "cell_type": "code",
      "source": [
        "#GET THE LIST OF COLUMNS IN DATASET:\n",
        "df.columns"
      ],
      "metadata": {
        "colab": {
          "base_uri": "https://localhost:8080/"
        },
        "id": "3T7lMogpr7ix",
        "outputId": "bd201516-a226-42bc-c7dc-dd2af0693bd0"
      },
      "execution_count": 14,
      "outputs": [
        {
          "output_type": "execute_result",
          "data": {
            "text/plain": [
              "Index(['id', 'gender', 'age', 'hypertension', 'heart_disease', 'ever_married',\n",
              "       'work_type', 'Residence_type', 'avg_glucose_level', 'bmi',\n",
              "       'smoking_status', 'stroke'],\n",
              "      dtype='object')"
            ]
          },
          "metadata": {},
          "execution_count": 14
        }
      ]
    },
    {
      "cell_type": "code",
      "source": [
        "#GET THE STATISTICS OF DATA:\n",
        "df.describe()"
      ],
      "metadata": {
        "colab": {
          "base_uri": "https://localhost:8080/",
          "height": 300
        },
        "id": "s-4NSClar7gX",
        "outputId": "6981b1b6-e2fc-49ec-b66d-6d5b210e3902"
      },
      "execution_count": 15,
      "outputs": [
        {
          "output_type": "execute_result",
          "data": {
            "text/html": [
              "\n",
              "  <div id=\"df-facc4dfb-f9f1-4317-8682-794afdd6e8c8\">\n",
              "    <div class=\"colab-df-container\">\n",
              "      <div>\n",
              "<style scoped>\n",
              "    .dataframe tbody tr th:only-of-type {\n",
              "        vertical-align: middle;\n",
              "    }\n",
              "\n",
              "    .dataframe tbody tr th {\n",
              "        vertical-align: top;\n",
              "    }\n",
              "\n",
              "    .dataframe thead th {\n",
              "        text-align: right;\n",
              "    }\n",
              "</style>\n",
              "<table border=\"1\" class=\"dataframe\">\n",
              "  <thead>\n",
              "    <tr style=\"text-align: right;\">\n",
              "      <th></th>\n",
              "      <th>id</th>\n",
              "      <th>age</th>\n",
              "      <th>hypertension</th>\n",
              "      <th>heart_disease</th>\n",
              "      <th>avg_glucose_level</th>\n",
              "      <th>bmi</th>\n",
              "      <th>stroke</th>\n",
              "    </tr>\n",
              "  </thead>\n",
              "  <tbody>\n",
              "    <tr>\n",
              "      <th>count</th>\n",
              "      <td>5110.000000</td>\n",
              "      <td>5110.000000</td>\n",
              "      <td>5110.000000</td>\n",
              "      <td>5110.000000</td>\n",
              "      <td>5110.000000</td>\n",
              "      <td>4909.000000</td>\n",
              "      <td>5110.000000</td>\n",
              "    </tr>\n",
              "    <tr>\n",
              "      <th>mean</th>\n",
              "      <td>36517.829354</td>\n",
              "      <td>43.226614</td>\n",
              "      <td>0.097456</td>\n",
              "      <td>0.054012</td>\n",
              "      <td>106.147677</td>\n",
              "      <td>28.893237</td>\n",
              "      <td>0.048728</td>\n",
              "    </tr>\n",
              "    <tr>\n",
              "      <th>std</th>\n",
              "      <td>21161.721625</td>\n",
              "      <td>22.612647</td>\n",
              "      <td>0.296607</td>\n",
              "      <td>0.226063</td>\n",
              "      <td>45.283560</td>\n",
              "      <td>7.854067</td>\n",
              "      <td>0.215320</td>\n",
              "    </tr>\n",
              "    <tr>\n",
              "      <th>min</th>\n",
              "      <td>67.000000</td>\n",
              "      <td>0.080000</td>\n",
              "      <td>0.000000</td>\n",
              "      <td>0.000000</td>\n",
              "      <td>55.120000</td>\n",
              "      <td>10.300000</td>\n",
              "      <td>0.000000</td>\n",
              "    </tr>\n",
              "    <tr>\n",
              "      <th>25%</th>\n",
              "      <td>17741.250000</td>\n",
              "      <td>25.000000</td>\n",
              "      <td>0.000000</td>\n",
              "      <td>0.000000</td>\n",
              "      <td>77.245000</td>\n",
              "      <td>23.500000</td>\n",
              "      <td>0.000000</td>\n",
              "    </tr>\n",
              "    <tr>\n",
              "      <th>50%</th>\n",
              "      <td>36932.000000</td>\n",
              "      <td>45.000000</td>\n",
              "      <td>0.000000</td>\n",
              "      <td>0.000000</td>\n",
              "      <td>91.885000</td>\n",
              "      <td>28.100000</td>\n",
              "      <td>0.000000</td>\n",
              "    </tr>\n",
              "    <tr>\n",
              "      <th>75%</th>\n",
              "      <td>54682.000000</td>\n",
              "      <td>61.000000</td>\n",
              "      <td>0.000000</td>\n",
              "      <td>0.000000</td>\n",
              "      <td>114.090000</td>\n",
              "      <td>33.100000</td>\n",
              "      <td>0.000000</td>\n",
              "    </tr>\n",
              "    <tr>\n",
              "      <th>max</th>\n",
              "      <td>72940.000000</td>\n",
              "      <td>82.000000</td>\n",
              "      <td>1.000000</td>\n",
              "      <td>1.000000</td>\n",
              "      <td>271.740000</td>\n",
              "      <td>97.600000</td>\n",
              "      <td>1.000000</td>\n",
              "    </tr>\n",
              "  </tbody>\n",
              "</table>\n",
              "</div>\n",
              "      <button class=\"colab-df-convert\" onclick=\"convertToInteractive('df-facc4dfb-f9f1-4317-8682-794afdd6e8c8')\"\n",
              "              title=\"Convert this dataframe to an interactive table.\"\n",
              "              style=\"display:none;\">\n",
              "        \n",
              "  <svg xmlns=\"http://www.w3.org/2000/svg\" height=\"24px\"viewBox=\"0 0 24 24\"\n",
              "       width=\"24px\">\n",
              "    <path d=\"M0 0h24v24H0V0z\" fill=\"none\"/>\n",
              "    <path d=\"M18.56 5.44l.94 2.06.94-2.06 2.06-.94-2.06-.94-.94-2.06-.94 2.06-2.06.94zm-11 1L8.5 8.5l.94-2.06 2.06-.94-2.06-.94L8.5 2.5l-.94 2.06-2.06.94zm10 10l.94 2.06.94-2.06 2.06-.94-2.06-.94-.94-2.06-.94 2.06-2.06.94z\"/><path d=\"M17.41 7.96l-1.37-1.37c-.4-.4-.92-.59-1.43-.59-.52 0-1.04.2-1.43.59L10.3 9.45l-7.72 7.72c-.78.78-.78 2.05 0 2.83L4 21.41c.39.39.9.59 1.41.59.51 0 1.02-.2 1.41-.59l7.78-7.78 2.81-2.81c.8-.78.8-2.07 0-2.86zM5.41 20L4 18.59l7.72-7.72 1.47 1.35L5.41 20z\"/>\n",
              "  </svg>\n",
              "      </button>\n",
              "      \n",
              "  <style>\n",
              "    .colab-df-container {\n",
              "      display:flex;\n",
              "      flex-wrap:wrap;\n",
              "      gap: 12px;\n",
              "    }\n",
              "\n",
              "    .colab-df-convert {\n",
              "      background-color: #E8F0FE;\n",
              "      border: none;\n",
              "      border-radius: 50%;\n",
              "      cursor: pointer;\n",
              "      display: none;\n",
              "      fill: #1967D2;\n",
              "      height: 32px;\n",
              "      padding: 0 0 0 0;\n",
              "      width: 32px;\n",
              "    }\n",
              "\n",
              "    .colab-df-convert:hover {\n",
              "      background-color: #E2EBFA;\n",
              "      box-shadow: 0px 1px 2px rgba(60, 64, 67, 0.3), 0px 1px 3px 1px rgba(60, 64, 67, 0.15);\n",
              "      fill: #174EA6;\n",
              "    }\n",
              "\n",
              "    [theme=dark] .colab-df-convert {\n",
              "      background-color: #3B4455;\n",
              "      fill: #D2E3FC;\n",
              "    }\n",
              "\n",
              "    [theme=dark] .colab-df-convert:hover {\n",
              "      background-color: #434B5C;\n",
              "      box-shadow: 0px 1px 3px 1px rgba(0, 0, 0, 0.15);\n",
              "      filter: drop-shadow(0px 1px 2px rgba(0, 0, 0, 0.3));\n",
              "      fill: #FFFFFF;\n",
              "    }\n",
              "  </style>\n",
              "\n",
              "      <script>\n",
              "        const buttonEl =\n",
              "          document.querySelector('#df-facc4dfb-f9f1-4317-8682-794afdd6e8c8 button.colab-df-convert');\n",
              "        buttonEl.style.display =\n",
              "          google.colab.kernel.accessAllowed ? 'block' : 'none';\n",
              "\n",
              "        async function convertToInteractive(key) {\n",
              "          const element = document.querySelector('#df-facc4dfb-f9f1-4317-8682-794afdd6e8c8');\n",
              "          const dataTable =\n",
              "            await google.colab.kernel.invokeFunction('convertToInteractive',\n",
              "                                                     [key], {});\n",
              "          if (!dataTable) return;\n",
              "\n",
              "          const docLinkHtml = 'Like what you see? Visit the ' +\n",
              "            '<a target=\"_blank\" href=https://colab.research.google.com/notebooks/data_table.ipynb>data table notebook</a>'\n",
              "            + ' to learn more about interactive tables.';\n",
              "          element.innerHTML = '';\n",
              "          dataTable['output_type'] = 'display_data';\n",
              "          await google.colab.output.renderOutput(dataTable, element);\n",
              "          const docLink = document.createElement('div');\n",
              "          docLink.innerHTML = docLinkHtml;\n",
              "          element.appendChild(docLink);\n",
              "        }\n",
              "      </script>\n",
              "    </div>\n",
              "  </div>\n",
              "  "
            ],
            "text/plain": [
              "                 id          age  ...          bmi       stroke\n",
              "count   5110.000000  5110.000000  ...  4909.000000  5110.000000\n",
              "mean   36517.829354    43.226614  ...    28.893237     0.048728\n",
              "std    21161.721625    22.612647  ...     7.854067     0.215320\n",
              "min       67.000000     0.080000  ...    10.300000     0.000000\n",
              "25%    17741.250000    25.000000  ...    23.500000     0.000000\n",
              "50%    36932.000000    45.000000  ...    28.100000     0.000000\n",
              "75%    54682.000000    61.000000  ...    33.100000     0.000000\n",
              "max    72940.000000    82.000000  ...    97.600000     1.000000\n",
              "\n",
              "[8 rows x 7 columns]"
            ]
          },
          "metadata": {},
          "execution_count": 15
        }
      ]
    },
    {
      "cell_type": "markdown",
      "source": [
        "HERE WE CAN SEE THAT THE COUNT OF **\"BMI**\" IS LESS COMPARED TO OTHER FEATURES. THAT MEANS BMI HAS SOME NULL VALUES."
      ],
      "metadata": {
        "id": "dvX0Zh9SsHpK"
      }
    },
    {
      "cell_type": "code",
      "source": [
        ""
      ],
      "metadata": {
        "id": "N7auJAKCfge3"
      },
      "execution_count": null,
      "outputs": []
    },
    {
      "cell_type": "code",
      "source": [
        "df.info()"
      ],
      "metadata": {
        "colab": {
          "base_uri": "https://localhost:8080/"
        },
        "id": "AxSRKqCZsEfX",
        "outputId": "3e0edeee-edb9-4224-e0ca-d04a94fb6948"
      },
      "execution_count": 16,
      "outputs": [
        {
          "output_type": "stream",
          "name": "stdout",
          "text": [
            "<class 'pandas.core.frame.DataFrame'>\n",
            "RangeIndex: 5110 entries, 0 to 5109\n",
            "Data columns (total 12 columns):\n",
            " #   Column             Non-Null Count  Dtype  \n",
            "---  ------             --------------  -----  \n",
            " 0   id                 5110 non-null   int64  \n",
            " 1   gender             5110 non-null   object \n",
            " 2   age                5110 non-null   float64\n",
            " 3   hypertension       5110 non-null   int64  \n",
            " 4   heart_disease      5110 non-null   int64  \n",
            " 5   ever_married       5110 non-null   object \n",
            " 6   work_type          5110 non-null   object \n",
            " 7   Residence_type     5110 non-null   object \n",
            " 8   avg_glucose_level  5110 non-null   float64\n",
            " 9   bmi                4909 non-null   float64\n",
            " 10  smoking_status     5110 non-null   object \n",
            " 11  stroke             5110 non-null   int64  \n",
            "dtypes: float64(3), int64(4), object(5)\n",
            "memory usage: 479.2+ KB\n"
          ]
        }
      ]
    },
    {
      "cell_type": "markdown",
      "source": [
        "HERE THE CATEGORICAL FEATURES ARE - \"GENDER\", \"EVER_MARRIED\", \"WORK_TYPE\", \"RESIDENCE_TYPE\", \"SMOKING_STATUS\".\n",
        "\n",
        "WE NEED TO HANDLE THESE COLUMNS. (CONVERT TO NUMERIC DATA)"
      ],
      "metadata": {
        "id": "L-F_sZdWsNL7"
      }
    },
    {
      "cell_type": "markdown",
      "source": [
        "**EDA & FEATURE ENGINEERING**"
      ],
      "metadata": {
        "id": "3JruCPQesNJH"
      }
    },
    {
      "cell_type": "markdown",
      "source": [
        "\n",
        "**EDA**\n",
        "\n",
        "Exploratory Data Analysis (EDA) is an approach to analyzing data sets to summarize their main characteristics, often with visual methods. A statistical model can be used or not, but primarily EDA is for seeing what the data can tell us beyond the formal modeling or hypothesis testing task.\n",
        "\n",
        "In summary, EDA can show us hidden relationships and attributes present in our data even before we throw it at a machine learning model.\n",
        "\n",
        "**FEATURE ENGINEERING**\n",
        "\n",
        "Feature engineering is the process of using domain knowledge of the data to create features that make machine learning algorithms work. Feature engineering is fundamental to the application of machine learning and is both difficult and expensive. (source: Wikipedia)\n",
        "\n",
        "In summary, FE is simply using your existing knowledge of the dataset to create new features that can help a machine learning model perform better"
      ],
      "metadata": {
        "id": "f76qBkhZsUfv"
      }
    },
    {
      "cell_type": "code",
      "source": [
        "fig = plt.figure(figsize = (18, 60))\n",
        "fig.patch.set_facecolor('#fafafa')\n",
        "\n",
        "plt.subplot(921)\n",
        "sns.set_style('white')\n",
        "plt.title('Age group', size = 20, x = 1.1, y = 1.03)\n",
        "plt.grid(color = 'gray', linestyle = ':', axis = 'y', zorder = 0,  dashes = (1,7))\n",
        "a = sns.barplot(data = dst_st_age, x = dst_st_age['age_group'], y = dst_st_age['count'], hue = dst_st_age['stroke'], palette = ['#1092c9','#c91010'])\n",
        "plt.xticks(rotation = 10)\n",
        "plt.ylabel('')\n",
        "plt.xlabel('')\n",
        "plt.legend(loc = 'upper left')\n",
        "\n",
        "plt.subplot(922)\n",
        "plt.grid(color = 'gray', linestyle = ':', axis = 'y', zorder = 0,  dashes = (1,7))\n",
        "a2 = sns.barplot(data = dst_st_age, x = dst_st_age['age_group'], y = dst_st_age['percent'], hue = dst_st_age['stroke'], palette = ['#1092c9','#c91010'])\n",
        "plt.xticks(rotation = 10)\n",
        "plt.ylabel('')\n",
        "plt.xlabel('')\n",
        "plt.legend('').set_visible(False)\n",
        "\n",
        "plt.subplot(923)\n",
        "sns.set_style('white')\n",
        "plt.title('Hypertension', size = 20, x = 1.1, y = 1.03)\n",
        "plt.grid(color = 'gray', linestyle = ':', axis = 'y', zorder = 0,  dashes = (1,7))\n",
        "b = sns.barplot(data = hyper, x = hyper['hypertension'], y = hyper['count'], hue = hyper['stroke'], palette = ['#1092c9','#c91010'])\n",
        "plt.ylabel('')\n",
        "plt.xlabel('')\n",
        "plt.legend('').set_visible(False)\n",
        "\n",
        "plt.subplot(924)\n",
        "plt.grid(color = 'gray', linestyle = ':', axis = 'y', zorder = 0,  dashes = (1,7))\n",
        "b2 = sns.barplot(data = hyper, x = hyper['hypertension'], y = hyper['percent'], hue = hyper['stroke'], palette = ['#1092c9','#c91010'])\n",
        "plt.ylabel('')\n",
        "plt.xlabel('')\n",
        "plt.legend('').set_visible(False)\n",
        "\n",
        "plt.subplot(925)\n",
        "sns.set_style('white')\n",
        "plt.title('Heart deseases', size = 20, x = 1.1, y = 1.03)\n",
        "plt.grid(color = 'gray', linestyle = ':', axis = 'y', zorder = 0,  dashes = (1,7))\n",
        "c = sns.barplot(data = heart, x = heart['heart_disease'], y = heart['count'], hue = heart['stroke'], palette = ['#1092c9','#c91010'])\n",
        "plt.ylabel('')\n",
        "plt.xlabel('')\n",
        "plt.legend('').set_visible(False)\n",
        "\n",
        "plt.subplot(926)\n",
        "plt.grid(color = 'gray', linestyle = ':', axis = 'y', zorder = 0,  dashes = (1,7))\n",
        "c2 = sns.barplot(data = heart, x = heart['heart_disease'], y = heart['percent'], hue = heart['stroke'], palette = ['#1092c9','#c91010'])\n",
        "plt.ylabel('')\n",
        "plt.xlabel('')\n",
        "plt.legend('').set_visible(False)\n",
        "\n",
        "plt.subplot(927)\n",
        "sns.set_style('white')\n",
        "plt.title('Ever married', size = 20, x = 1.1, y = 1.03)\n",
        "plt.grid(color = 'gray', linestyle = ':', axis = 'y', zorder = 0,  dashes = (1,7))\n",
        "d = sns.barplot(data = marry, x = marry['ever_married'], y = marry['count'], hue = marry['stroke'], palette = ['#1092c9','#c91010'])\n",
        "plt.ylabel('')\n",
        "plt.xlabel('')\n",
        "plt.legend('').set_visible(False)\n",
        "\n",
        "plt.subplot(928)\n",
        "plt.grid(color = 'gray', linestyle = ':', axis = 'y', zorder = 0,  dashes = (1,7))\n",
        "d2 = sns.barplot(data = marry, x = marry['ever_married'], y = marry['percent'], hue = marry['stroke'], palette = ['#1092c9','#c91010'])\n",
        "plt.ylabel('')\n",
        "plt.xlabel('')\n",
        "plt.legend('').set_visible(False)\n",
        "\n",
        "plt.subplot(929)\n",
        "sns.set_style('white')\n",
        "plt.title('Work type', size = 20, x = 1.1, y = 1.03)\n",
        "plt.grid(color = 'gray', linestyle = ':', axis = 'y', zorder = 0,  dashes = (1,7))\n",
        "e = sns.barplot(data = work, x = work['work_type'], y = work['count'], hue = work['stroke'], palette = ['#1092c9','#c91010'])\n",
        "plt.ylabel('')\n",
        "plt.xlabel('')\n",
        "plt.legend('').set_visible(False)\n",
        "\n",
        "plt.subplot(9,2,10)\n",
        "plt.grid(color = 'gray', linestyle = ':', axis = 'y', zorder = 0,  dashes = (1,7))\n",
        "e2 = sns.barplot(data = work, x = work['work_type'], y = work['percent'], hue = work['stroke'], palette = ['#1092c9','#c91010'])\n",
        "plt.ylabel('')\n",
        "plt.xlabel('')\n",
        "plt.legend('').set_visible(False)\n",
        "\n",
        "plt.subplot(9,2,11)\n",
        "sns.set_style('white')\n",
        "plt.title('Residence type', size = 20, x = 1.1, y = 1.03)\n",
        "plt.grid(color = 'gray', linestyle = ':', axis = 'y', zorder = 0,  dashes = (1,7))\n",
        "f = sns.barplot(data = residence, x = residence['Residence_type'], y = residence['count'], hue = residence['stroke'], palette = ['#1092c9','#c91010'])\n",
        "\n",
        "plt.ylabel('')\n",
        "plt.xlabel('')\n",
        "plt.legend('').set_visible(False)\n",
        "plt.subplot(9,2,12)\n",
        "plt.grid(color = 'gray', linestyle = ':', axis = 'y', zorder = 0,  dashes = (1,7))\n",
        "f2 = sns.barplot(data = residence, x = residence['Residence_type'], y = residence['percent'], hue = residence['stroke'], palette = ['#1092c9','#c91010'])\n",
        "plt.ylabel('')\n",
        "plt.xlabel('')\n",
        "plt.legend('').set_visible(False)\n",
        "\n",
        "plt.subplot(9,2,13)\n",
        "sns.set_style('white')\n",
        "plt.title('Glucose group', size = 20, x = 1.1, y = 1.03)\n",
        "plt.grid(color = 'gray', linestyle = ':', axis = 'y', zorder = 0,  dashes = (1,7))\n",
        "g = sns.barplot(data = glucose_group, x = glucose_group['glucose_group'], y = glucose_group['count'], hue = glucose_group['stroke'], palette = ['#1092c9','#c91010'])\n",
        "plt.ylabel('')\n",
        "plt.xlabel('')\n",
        "plt.legend('').set_visible(False)\n",
        "\n",
        "plt.subplot(9,2,14)\n",
        "plt.grid(color = 'gray', linestyle = ':', axis = 'y', zorder = 0,  dashes = (1,7))\n",
        "g2 = sns.barplot(data = glucose_group, x = glucose_group['glucose_group'], y = glucose_group['percent'], hue = glucose_group['stroke'], palette = ['#1092c9','#c91010'])\n",
        "plt.ylabel('')\n",
        "plt.xlabel('')\n",
        "plt.legend('').set_visible(False)\n",
        "\n",
        "plt.subplot(9,2,15)\n",
        "sns.set_style('white')\n",
        "plt.title('BMI group', size = 20, x = 1.1, y = 1.03)\n",
        "plt.grid(color = 'gray', linestyle = ':', axis = 'y', zorder = 0,  dashes = (1,7))\n",
        "h = sns.barplot(data = bmi_group, x = bmi_group['bmi_group'], y = bmi_group['count'], hue = bmi_group['stroke'], palette = ['#1092c9','#c91010'])\n",
        "plt.ylabel('')\n",
        "plt.xlabel('')\n",
        "plt.legend('').set_visible(False)\n",
        "\n",
        "plt.subplot(9,2,16)\n",
        "plt.grid(color = 'gray', linestyle = ':', axis = 'y', zorder = 0,  dashes = (1,7))\n",
        "h2 = sns.barplot(data = bmi_group, x = bmi_group['bmi_group'], y = bmi_group['percent'], hue = bmi_group['stroke'], palette = ['#1092c9','#c91010'])\n",
        "plt.ylabel('')\n",
        "plt.xlabel('')\n",
        "plt.legend('').set_visible(False)\n",
        "\n",
        "plt.subplot(9,2,17)\n",
        "sns.set_style('white')\n",
        "plt.title('Smoking', size = 20, x = 1.1, y = 1.03)\n",
        "plt.grid(color = 'gray', linestyle = ':', axis = 'y', zorder = 0,  dashes = (1,7))\n",
        "j = sns.barplot(data = smoking, x = smoking['smoking_status'], y = smoking['count'], hue = smoking['stroke'], palette = ['#1092c9','#c91010'])\n",
        "plt.ylabel('')\n",
        "plt.xlabel('')\n",
        "plt.legend('').set_visible(False)\n",
        "\n",
        "plt.subplot(9,2,18)\n",
        "plt.grid(color = 'gray', linestyle = ':', axis = 'y', zorder = 0,  dashes = (1,7))\n",
        "j2 = sns.barplot(data = smoking, x = smoking['smoking_status'], y = smoking['percent'], hue = smoking['stroke'], palette = ['#1092c9','#c91010'])\n",
        "plt.ylabel('')\n",
        "plt.xlabel('')\n",
        "plt.legend('').set_visible(False)\n",
        "\n",
        "# add annotations\n",
        "for i in [a,b,c,d,e,f,g,h,j]:\n",
        "    for p in i.patches:\n",
        "        height = p.get_height()\n",
        "        i.annotate(f'{height:g}', (p.get_x() + p.get_width() / 2, p.get_height()), \n",
        "                   ha = 'center', va = 'center', \n",
        "                   size = 10,\n",
        "                   xytext = (0, 5), \n",
        "                   textcoords = 'offset points')\n",
        "\n",
        "for i in [a2,b2,c2,d2,e2,f2,g2,h2,j2]:\n",
        "    for p in i.patches:\n",
        "        height = p.get_height()\n",
        "        i.annotate(f'{height:g}%', (p.get_x() + p.get_width() / 2, p.get_height()), \n",
        "                   ha = 'center', va = 'center', \n",
        "                   size = 10,\n",
        "                   xytext = (0, 5), \n",
        "                   textcoords = 'offset points')\n",
        "        \n",
        "plt.show()\n"
      ],
      "metadata": {
        "colab": {
          "base_uri": "https://localhost:8080/",
          "height": 1000
        },
        "id": "zXR0ph-ee6dI",
        "outputId": "d84649e7-8ce2-4420-efc0-0892da13d3d5"
      },
      "execution_count": 41,
      "outputs": [
        {
          "output_type": "display_data",
          "data": {
            "image/png": "[encoded data removed]",
            "text/plain": [
              "<Figure size 1296x4320 with 18 Axes>"
            ]
          },
          "metadata": {}
        }
      ]
    },
    {
      "cell_type": "code",
      "source": [
        "plt.figure(figsize=(15,10))\n",
        "sns.heatmap(df.corr(), annot=True, cmap = 'Blues')\n",
        "plt.show()"
      ],
      "metadata": {
        "id": "xp9dLQg2sgrH",
        "colab": {
          "base_uri": "https://localhost:8080/",
          "height": 596
        },
        "outputId": "5e1d05e7-d6eb-4a63-ffa9-94ebbc7aafc8"
      },
      "execution_count": 17,
      "outputs": [
        {
          "output_type": "display_data",
          "data": {
            "image/png": "[encoded data removed]",
            "text/plain": [
              "<Figure size 1080x720 with 2 Axes>"
            ]
          },
          "metadata": {
            "needs_background": "light"
          }
        }
      ]
    },
    {
      "cell_type": "markdown",
      "source": [
        "**Conclusions of EDA**\n",
        "\n",
        "1)Based on the data, gender does not affect the probability of stroke, but in fact men have a higher risk of stroke, howewer, women have a higher mortality rate from stroke. This is a medical fact.\n",
        "\n",
        "2)There is a large correlation between age and stroke risk. Almost all doctors know that stroke is most often an age problem. However, this can also happen with childs, in the available data in groups \"baby\" and \"child\", 2 people had a stroke.\n",
        "\n",
        "3)The presence of hypertension or heart diseases have affect on stroke risk\n",
        "\n",
        "4)People who are married have a higher risk of stroke. I think it's a coincidence.\n",
        "\n",
        "5)The author of the dataset did not specify what is meant \"children\" type of work, working with children in kindergartens and schools or caring for their children, but in any case children have a positive impact on the health of adults.\n",
        "\n",
        "6)Living in a rural or urban areas does not affect the risk of stroke in any way.\n",
        "\n",
        "7)Smoking also does not affect the risk of stroke. If draw conclusions only by the data, then yes, but if you have at least the slightest knowledge of medicine, you should know that smoking leads to problems with blood vessels, and this in turn can lead to heart diseases or hypertension, which is already a problem.\n",
        "\n",
        "8)Obesity leads not only to problems with blood vessels and many others, but also to the risk of stroke.\n",
        "\n",
        "9)Diabetes has an impact on the risk of stroke."
      ],
      "metadata": {
        "id": "3U87HK0-1sSH"
      }
    },
    {
      "cell_type": "code",
      "source": [
        "df['stroke'].value_counts(dropna = False).plot.bar(color = 'cyan')\n",
        "plt.title('Comparison of stroke feature')\n",
        "plt.xlabel('zero & one')\n",
        "plt.ylabel('count')\n",
        "plt.show()"
      ],
      "metadata": {
        "id": "r4TpYzyAtAVn",
        "colab": {
          "base_uri": "https://localhost:8080/",
          "height": 292
        },
        "outputId": "cd5dfc7b-ba25-4c5c-f649-8068dd494c20"
      },
      "execution_count": 18,
      "outputs": [
        {
          "output_type": "display_data",
          "data": {
            "image/png": "[encoded data removed]",
            "text/plain": [
              "<Figure size 432x288 with 1 Axes>"
            ]
          },
          "metadata": {
            "needs_background": "light"
          }
        }
      ]
    },
    {
      "cell_type": "markdown",
      "source": [
        "HERE WE CAN SEE THE DATA IS COMPLETELY IMBALANCE. WE'LL HANDLE THIS BELOW."
      ],
      "metadata": {
        "id": "7YZjmI36tFY3"
      }
    },
    {
      "cell_type": "markdown",
      "source": [
        "1. HANDLING MISSING VALUES:\n",
        "\n",
        "**WHAT ARE MISSING VALUES ?**\n",
        "\n",
        "Many real-world datasets may contain missing values for various reasons. They are often encoded as NaNs, blanks or any other placeholders. Training a model with a dataset that has a lot of missing values can drastically impact the machine learning model's quality.\n",
        "\n",
        "**WAYS TO HANDLE MISSING VALUES**:\n",
        "\n",
        "Deletion\n",
        "\n",
        "Impute missing values with Mean/Median\n",
        "\n",
        "Prediction Model\n",
        "\n",
        "KNN Imputer"
      ],
      "metadata": {
        "id": "9oa-Dj4ztNRM"
      }
    },
    {
      "cell_type": "code",
      "source": [
        "df.isnull().sum()"
      ],
      "metadata": {
        "id": "8uUclGiXtEAW",
        "colab": {
          "base_uri": "https://localhost:8080/"
        },
        "outputId": "b569d965-4aee-4074-b9ea-7dbc488a19d0"
      },
      "execution_count": 19,
      "outputs": [
        {
          "output_type": "execute_result",
          "data": {
            "text/plain": [
              "id                     0\n",
              "gender                 0\n",
              "age                    0\n",
              "hypertension           0\n",
              "heart_disease          0\n",
              "ever_married           0\n",
              "work_type              0\n",
              "Residence_type         0\n",
              "avg_glucose_level      0\n",
              "bmi                  201\n",
              "smoking_status         0\n",
              "stroke                 0\n",
              "dtype: int64"
            ]
          },
          "metadata": {},
          "execution_count": 19
        }
      ]
    },
    {
      "cell_type": "code",
      "source": [
        "#WE ARE REPLACING THE NULL VALUES WITH MEAN OF THAT FEATURE.\n",
        "df['bmi'].fillna(df['bmi'].mean(),inplace=True)"
      ],
      "metadata": {
        "id": "3GK4TzhwtYeT"
      },
      "execution_count": 20,
      "outputs": []
    },
    {
      "cell_type": "code",
      "source": [
        "\n",
        "df.isnull().sum()"
      ],
      "metadata": {
        "id": "Js55fSD7tayW",
        "colab": {
          "base_uri": "https://localhost:8080/"
        },
        "outputId": "93ff486d-773b-4175-ac89-57410447095b"
      },
      "execution_count": 21,
      "outputs": [
        {
          "output_type": "execute_result",
          "data": {
            "text/plain": [
              "id                   0\n",
              "gender               0\n",
              "age                  0\n",
              "hypertension         0\n",
              "heart_disease        0\n",
              "ever_married         0\n",
              "work_type            0\n",
              "Residence_type       0\n",
              "avg_glucose_level    0\n",
              "bmi                  0\n",
              "smoking_status       0\n",
              "stroke               0\n",
              "dtype: int64"
            ]
          },
          "metadata": {},
          "execution_count": 21
        }
      ]
    },
    {
      "cell_type": "markdown",
      "source": [
        "HERE WE CAN SEE THAT NOW OUR DATA HAVE ZERO NULL VALUES."
      ],
      "metadata": {
        "id": "UE5Km3NBte4f"
      }
    },
    {
      "cell_type": "markdown",
      "source": [
        "**2. CHECK FOR OUTLIERS IN OUR DATA**\n",
        "\n",
        "**What is an Outlier ?**\n",
        "\n",
        "Outlier is a commonly used terminology by analysts and data scientists as it needs close attention else it can result in wildly wrong estimations. Simply speaking, Outlier is an observation that appears far away and diverges from an overall pattern in a sample.(SOURCE:Analytics Vidhya)\n",
        "\n",
        "\n",
        "**What is the impact of Outliers on a dataset?**\n",
        "\n",
        "Outliers can drastically change the results of the data analysis and statistical modeling. There are numerous unfavourable impacts of outliers in the data set\n",
        "\n",
        "It increases the error variance and reduces the power of statistical tests\n",
        "If the outliers are non-randomly distributed, they can decrease normality\n",
        "They can bias or influence estimates that may be of substantive interest\n",
        "They can also impact the basic assumption of Regression, ANOVA and other statistical model assumptions."
      ],
      "metadata": {
        "id": "hK0YApBLtohe"
      }
    },
    {
      "cell_type": "code",
      "source": [
        "#BMI FEATURE:\n",
        "df.boxplot(column='bmi')"
      ],
      "metadata": {
        "id": "BcZA4-GZtxCH",
        "colab": {
          "base_uri": "https://localhost:8080/",
          "height": 283
        },
        "outputId": "84e3bf42-00bc-41a4-bcd1-761dd93eed8a"
      },
      "execution_count": 22,
      "outputs": [
        {
          "output_type": "execute_result",
          "data": {
            "text/plain": [
              "<matplotlib.axes._subplots.AxesSubplot at 0x7f5f36280d10>"
            ]
          },
          "metadata": {},
          "execution_count": 22
        },
        {
          "output_type": "display_data",
          "data": {
            "image/png": "[encoded data removed]",
            "text/plain": [
              "<Figure size 432x288 with 1 Axes>"
            ]
          },
          "metadata": {
            "needs_background": "light"
          }
        }
      ]
    },
    {
      "cell_type": "code",
      "source": [
        "#AVG_GLUCOSE_LEVEL:\n",
        "df.boxplot(column='avg_glucose_level')"
      ],
      "metadata": {
        "id": "_dNrPcWst1Bf",
        "colab": {
          "base_uri": "https://localhost:8080/",
          "height": 284
        },
        "outputId": "8010a4df-d7d0-4227-bd0d-6a5677429a0f"
      },
      "execution_count": 23,
      "outputs": [
        {
          "output_type": "execute_result",
          "data": {
            "text/plain": [
              "<matplotlib.axes._subplots.AxesSubplot at 0x7f5f36186d50>"
            ]
          },
          "metadata": {},
          "execution_count": 23
        },
        {
          "output_type": "display_data",
          "data": {
            "image/png": "[encoded data removed]",
            "text/plain": [
              "<Figure size 432x288 with 1 Axes>"
            ]
          },
          "metadata": {
            "needs_background": "light"
          }
        }
      ]
    },
    {
      "cell_type": "markdown",
      "source": [
        "NO NEED TO WORRY ABOUT THESE OUTLIERS. THESE WILL BE HANDLED AUTOMATICALLY BY THE MODEL WE'LL BE USING  **XGBOOST**"
      ],
      "metadata": {
        "id": "PPoQ6mEct5F9"
      }
    },
    {
      "cell_type": "markdown",
      "source": [
        "**3) HANDLE THE CATEGORICAL VARIABLES USING LABEL ENCODER**"
      ],
      "metadata": {
        "id": "sXqBhtw9uU-P"
      }
    },
    {
      "cell_type": "code",
      "source": [
        "from sklearn.preprocessing import LabelEncoder\n",
        "enc=LabelEncoder()\n",
        "gender=enc.fit_transform(df['gender'])\n",
        "smoking_status=enc.fit_transform(df['smoking_status'])\n",
        "work_type=enc.fit_transform(df['work_type'])\n",
        "Residence_type=enc.fit_transform(df['Residence_type'])\n",
        "ever_married=enc.fit_transform(df['ever_married'])"
      ],
      "metadata": {
        "id": "2kHZgfzpual3"
      },
      "execution_count": 24,
      "outputs": []
    },
    {
      "cell_type": "code",
      "source": [
        "df['ever_married']=ever_married\n",
        "df['Residence_type']=Residence_type\n",
        "df['smoking_status']=smoking_status\n",
        "df['gender']=gender\n",
        "df['work_type']=work_type\n",
        "df[['ever_married', 'Residence_type', 'smoking_status', 'gender', 'work_type']].head()"
      ],
      "metadata": {
        "id": "m03_22V1udq6",
        "colab": {
          "base_uri": "https://localhost:8080/",
          "height": 206
        },
        "outputId": "8e498b8f-a8a9-4686-aace-222a1dd8dc3b"
      },
      "execution_count": 25,
      "outputs": [
        {
          "output_type": "execute_result",
          "data": {
            "text/html": [
              "\n",
              "  <div id=\"df-fa1279cb-eb4b-46e9-a3b8-8a20a43c9749\">\n",
              "    <div class=\"colab-df-container\">\n",
              "      <div>\n",
              "<style scoped>\n",
              "    .dataframe tbody tr th:only-of-type {\n",
              "        vertical-align: middle;\n",
              "    }\n",
              "\n",
              "    .dataframe tbody tr th {\n",
              "        vertical-align: top;\n",
              "    }\n",
              "\n",
              "    .dataframe thead th {\n",
              "        text-align: right;\n",
              "    }\n",
              "</style>\n",
              "<table border=\"1\" class=\"dataframe\">\n",
              "  <thead>\n",
              "    <tr style=\"text-align: right;\">\n",
              "      <th></th>\n",
              "      <th>ever_married</th>\n",
              "      <th>Residence_type</th>\n",
              "      <th>smoking_status</th>\n",
              "      <th>gender</th>\n",
              "      <th>work_type</th>\n",
              "    </tr>\n",
              "  </thead>\n",
              "  <tbody>\n",
              "    <tr>\n",
              "      <th>0</th>\n",
              "      <td>1</td>\n",
              "      <td>1</td>\n",
              "      <td>1</td>\n",
              "      <td>1</td>\n",
              "      <td>2</td>\n",
              "    </tr>\n",
              "    <tr>\n",
              "      <th>1</th>\n",
              "      <td>1</td>\n",
              "      <td>0</td>\n",
              "      <td>2</td>\n",
              "      <td>0</td>\n",
              "      <td>3</td>\n",
              "    </tr>\n",
              "    <tr>\n",
              "      <th>2</th>\n",
              "      <td>1</td>\n",
              "      <td>0</td>\n",
              "      <td>2</td>\n",
              "      <td>1</td>\n",
              "      <td>2</td>\n",
              "    </tr>\n",
              "    <tr>\n",
              "      <th>3</th>\n",
              "      <td>1</td>\n",
              "      <td>1</td>\n",
              "      <td>3</td>\n",
              "      <td>0</td>\n",
              "      <td>2</td>\n",
              "    </tr>\n",
              "    <tr>\n",
              "      <th>4</th>\n",
              "      <td>1</td>\n",
              "      <td>0</td>\n",
              "      <td>2</td>\n",
              "      <td>0</td>\n",
              "      <td>3</td>\n",
              "    </tr>\n",
              "  </tbody>\n",
              "</table>\n",
              "</div>\n",
              "      <button class=\"colab-df-convert\" onclick=\"convertToInteractive('df-fa1279cb-eb4b-46e9-a3b8-8a20a43c9749')\"\n",
              "              title=\"Convert this dataframe to an interactive table.\"\n",
              "              style=\"display:none;\">\n",
              "        \n",
              "  <svg xmlns=\"http://www.w3.org/2000/svg\" height=\"24px\"viewBox=\"0 0 24 24\"\n",
              "       width=\"24px\">\n",
              "    <path d=\"M0 0h24v24H0V0z\" fill=\"none\"/>\n",
              "    <path d=\"M18.56 5.44l.94 2.06.94-2.06 2.06-.94-2.06-.94-.94-2.06-.94 2.06-2.06.94zm-11 1L8.5 8.5l.94-2.06 2.06-.94-2.06-.94L8.5 2.5l-.94 2.06-2.06.94zm10 10l.94 2.06.94-2.06 2.06-.94-2.06-.94-.94-2.06-.94 2.06-2.06.94z\"/><path d=\"M17.41 7.96l-1.37-1.37c-.4-.4-.92-.59-1.43-.59-.52 0-1.04.2-1.43.59L10.3 9.45l-7.72 7.72c-.78.78-.78 2.05 0 2.83L4 21.41c.39.39.9.59 1.41.59.51 0 1.02-.2 1.41-.59l7.78-7.78 2.81-2.81c.8-.78.8-2.07 0-2.86zM5.41 20L4 18.59l7.72-7.72 1.47 1.35L5.41 20z\"/>\n",
              "  </svg>\n",
              "      </button>\n",
              "      \n",
              "  <style>\n",
              "    .colab-df-container {\n",
              "      display:flex;\n",
              "      flex-wrap:wrap;\n",
              "      gap: 12px;\n",
              "    }\n",
              "\n",
              "    .colab-df-convert {\n",
              "      background-color: #E8F0FE;\n",
              "      border: none;\n",
              "      border-radius: 50%;\n",
              "      cursor: pointer;\n",
              "      display: none;\n",
              "      fill: #1967D2;\n",
              "      height: 32px;\n",
              "      padding: 0 0 0 0;\n",
              "      width: 32px;\n",
              "    }\n",
              "\n",
              "    .colab-df-convert:hover {\n",
              "      background-color: #E2EBFA;\n",
              "      box-shadow: 0px 1px 2px rgba(60, 64, 67, 0.3), 0px 1px 3px 1px rgba(60, 64, 67, 0.15);\n",
              "      fill: #174EA6;\n",
              "    }\n",
              "\n",
              "    [theme=dark] .colab-df-convert {\n",
              "      background-color: #3B4455;\n",
              "      fill: #D2E3FC;\n",
              "    }\n",
              "\n",
              "    [theme=dark] .colab-df-convert:hover {\n",
              "      background-color: #434B5C;\n",
              "      box-shadow: 0px 1px 3px 1px rgba(0, 0, 0, 0.15);\n",
              "      filter: drop-shadow(0px 1px 2px rgba(0, 0, 0, 0.3));\n",
              "      fill: #FFFFFF;\n",
              "    }\n",
              "  </style>\n",
              "\n",
              "      <script>\n",
              "        const buttonEl =\n",
              "          document.querySelector('#df-fa1279cb-eb4b-46e9-a3b8-8a20a43c9749 button.colab-df-convert');\n",
              "        buttonEl.style.display =\n",
              "          google.colab.kernel.accessAllowed ? 'block' : 'none';\n",
              "\n",
              "        async function convertToInteractive(key) {\n",
              "          const element = document.querySelector('#df-fa1279cb-eb4b-46e9-a3b8-8a20a43c9749');\n",
              "          const dataTable =\n",
              "            await google.colab.kernel.invokeFunction('convertToInteractive',\n",
              "                                                     [key], {});\n",
              "          if (!dataTable) return;\n",
              "\n",
              "          const docLinkHtml = 'Like what you see? Visit the ' +\n",
              "            '<a target=\"_blank\" href=https://colab.research.google.com/notebooks/data_table.ipynb>data table notebook</a>'\n",
              "            + ' to learn more about interactive tables.';\n",
              "          element.innerHTML = '';\n",
              "          dataTable['output_type'] = 'display_data';\n",
              "          await google.colab.output.renderOutput(dataTable, element);\n",
              "          const docLink = document.createElement('div');\n",
              "          docLink.innerHTML = docLinkHtml;\n",
              "          element.appendChild(docLink);\n",
              "        }\n",
              "      </script>\n",
              "    </div>\n",
              "  </div>\n",
              "  "
            ],
            "text/plain": [
              "   ever_married  Residence_type  smoking_status  gender  work_type\n",
              "0             1               1               1       1          2\n",
              "1             1               0               2       0          3\n",
              "2             1               0               2       1          2\n",
              "3             1               1               3       0          2\n",
              "4             1               0               2       0          3"
            ]
          },
          "metadata": {},
          "execution_count": 25
        }
      ]
    },
    {
      "cell_type": "code",
      "source": [
        "df.info()"
      ],
      "metadata": {
        "id": "pODlzHkDugd-",
        "colab": {
          "base_uri": "https://localhost:8080/"
        },
        "outputId": "2f62bb11-439b-4e20-c8da-ed19f4c89e6d"
      },
      "execution_count": 26,
      "outputs": [
        {
          "output_type": "stream",
          "name": "stdout",
          "text": [
            "<class 'pandas.core.frame.DataFrame'>\n",
            "RangeIndex: 5110 entries, 0 to 5109\n",
            "Data columns (total 12 columns):\n",
            " #   Column             Non-Null Count  Dtype  \n",
            "---  ------             --------------  -----  \n",
            " 0   id                 5110 non-null   int64  \n",
            " 1   gender             5110 non-null   int64  \n",
            " 2   age                5110 non-null   float64\n",
            " 3   hypertension       5110 non-null   int64  \n",
            " 4   heart_disease      5110 non-null   int64  \n",
            " 5   ever_married       5110 non-null   int64  \n",
            " 6   work_type          5110 non-null   int64  \n",
            " 7   Residence_type     5110 non-null   int64  \n",
            " 8   avg_glucose_level  5110 non-null   float64\n",
            " 9   bmi                5110 non-null   float64\n",
            " 10  smoking_status     5110 non-null   int64  \n",
            " 11  stroke             5110 non-null   int64  \n",
            "dtypes: float64(3), int64(9)\n",
            "memory usage: 479.2 KB\n"
          ]
        }
      ]
    },
    {
      "cell_type": "markdown",
      "source": [
        "**THE CATEGORICAL FEATURES ARE HANDLED**"
      ],
      "metadata": {
        "id": "S1a1MrCGukid"
      }
    },
    {
      "cell_type": "markdown",
      "source": [
        "**4. REVOME UNNECESSARY COLUMNS IF ANY**"
      ],
      "metadata": {
        "id": "euQvhIp5uptV"
      }
    },
    {
      "cell_type": "code",
      "source": [
        "#ID COLUMN IS NOT REQUIRED.\n",
        "df = df.drop('id', axis=1)\n",
        "df.head()"
      ],
      "metadata": {
        "id": "gwRd94Yium8t",
        "colab": {
          "base_uri": "https://localhost:8080/",
          "height": 206
        },
        "outputId": "7c439e55-618e-47ba-b654-f7780ed22f4c"
      },
      "execution_count": 27,
      "outputs": [
        {
          "output_type": "execute_result",
          "data": {
            "text/html": [
              "\n",
              "  <div id=\"df-edf41b32-70c6-4087-8e6d-dcae8c7857a7\">\n",
              "    <div class=\"colab-df-container\">\n",
              "      <div>\n",
              "<style scoped>\n",
              "    .dataframe tbody tr th:only-of-type {\n",
              "        vertical-align: middle;\n",
              "    }\n",
              "\n",
              "    .dataframe tbody tr th {\n",
              "        vertical-align: top;\n",
              "    }\n",
              "\n",
              "    .dataframe thead th {\n",
              "        text-align: right;\n",
              "    }\n",
              "</style>\n",
              "<table border=\"1\" class=\"dataframe\">\n",
              "  <thead>\n",
              "    <tr style=\"text-align: right;\">\n",
              "      <th></th>\n",
              "      <th>gender</th>\n",
              "      <th>age</th>\n",
              "      <th>hypertension</th>\n",
              "      <th>heart_disease</th>\n",
              "      <th>ever_married</th>\n",
              "      <th>work_type</th>\n",
              "      <th>Residence_type</th>\n",
              "      <th>avg_glucose_level</th>\n",
              "      <th>bmi</th>\n",
              "      <th>smoking_status</th>\n",
              "      <th>stroke</th>\n",
              "    </tr>\n",
              "  </thead>\n",
              "  <tbody>\n",
              "    <tr>\n",
              "      <th>0</th>\n",
              "      <td>1</td>\n",
              "      <td>67.0</td>\n",
              "      <td>0</td>\n",
              "      <td>1</td>\n",
              "      <td>1</td>\n",
              "      <td>2</td>\n",
              "      <td>1</td>\n",
              "      <td>228.69</td>\n",
              "      <td>36.600000</td>\n",
              "      <td>1</td>\n",
              "      <td>1</td>\n",
              "    </tr>\n",
              "    <tr>\n",
              "      <th>1</th>\n",
              "      <td>0</td>\n",
              "      <td>61.0</td>\n",
              "      <td>0</td>\n",
              "      <td>0</td>\n",
              "      <td>1</td>\n",
              "      <td>3</td>\n",
              "      <td>0</td>\n",
              "      <td>202.21</td>\n",
              "      <td>28.893237</td>\n",
              "      <td>2</td>\n",
              "      <td>1</td>\n",
              "    </tr>\n",
              "    <tr>\n",
              "      <th>2</th>\n",
              "      <td>1</td>\n",
              "      <td>80.0</td>\n",
              "      <td>0</td>\n",
              "      <td>1</td>\n",
              "      <td>1</td>\n",
              "      <td>2</td>\n",
              "      <td>0</td>\n",
              "      <td>105.92</td>\n",
              "      <td>32.500000</td>\n",
              "      <td>2</td>\n",
              "      <td>1</td>\n",
              "    </tr>\n",
              "    <tr>\n",
              "      <th>3</th>\n",
              "      <td>0</td>\n",
              "      <td>49.0</td>\n",
              "      <td>0</td>\n",
              "      <td>0</td>\n",
              "      <td>1</td>\n",
              "      <td>2</td>\n",
              "      <td>1</td>\n",
              "      <td>171.23</td>\n",
              "      <td>34.400000</td>\n",
              "      <td>3</td>\n",
              "      <td>1</td>\n",
              "    </tr>\n",
              "    <tr>\n",
              "      <th>4</th>\n",
              "      <td>0</td>\n",
              "      <td>79.0</td>\n",
              "      <td>1</td>\n",
              "      <td>0</td>\n",
              "      <td>1</td>\n",
              "      <td>3</td>\n",
              "      <td>0</td>\n",
              "      <td>174.12</td>\n",
              "      <td>24.000000</td>\n",
              "      <td>2</td>\n",
              "      <td>1</td>\n",
              "    </tr>\n",
              "  </tbody>\n",
              "</table>\n",
              "</div>\n",
              "      <button class=\"colab-df-convert\" onclick=\"convertToInteractive('df-edf41b32-70c6-4087-8e6d-dcae8c7857a7')\"\n",
              "              title=\"Convert this dataframe to an interactive table.\"\n",
              "              style=\"display:none;\">\n",
              "        \n",
              "  <svg xmlns=\"http://www.w3.org/2000/svg\" height=\"24px\"viewBox=\"0 0 24 24\"\n",
              "       width=\"24px\">\n",
              "    <path d=\"M0 0h24v24H0V0z\" fill=\"none\"/>\n",
              "    <path d=\"M18.56 5.44l.94 2.06.94-2.06 2.06-.94-2.06-.94-.94-2.06-.94 2.06-2.06.94zm-11 1L8.5 8.5l.94-2.06 2.06-.94-2.06-.94L8.5 2.5l-.94 2.06-2.06.94zm10 10l.94 2.06.94-2.06 2.06-.94-2.06-.94-.94-2.06-.94 2.06-2.06.94z\"/><path d=\"M17.41 7.96l-1.37-1.37c-.4-.4-.92-.59-1.43-.59-.52 0-1.04.2-1.43.59L10.3 9.45l-7.72 7.72c-.78.78-.78 2.05 0 2.83L4 21.41c.39.39.9.59 1.41.59.51 0 1.02-.2 1.41-.59l7.78-7.78 2.81-2.81c.8-.78.8-2.07 0-2.86zM5.41 20L4 18.59l7.72-7.72 1.47 1.35L5.41 20z\"/>\n",
              "  </svg>\n",
              "      </button>\n",
              "      \n",
              "  <style>\n",
              "    .colab-df-container {\n",
              "      display:flex;\n",
              "      flex-wrap:wrap;\n",
              "      gap: 12px;\n",
              "    }\n",
              "\n",
              "    .colab-df-convert {\n",
              "      background-color: #E8F0FE;\n",
              "      border: none;\n",
              "      border-radius: 50%;\n",
              "      cursor: pointer;\n",
              "      display: none;\n",
              "      fill: #1967D2;\n",
              "      height: 32px;\n",
              "      padding: 0 0 0 0;\n",
              "      width: 32px;\n",
              "    }\n",
              "\n",
              "    .colab-df-convert:hover {\n",
              "      background-color: #E2EBFA;\n",
              "      box-shadow: 0px 1px 2px rgba(60, 64, 67, 0.3), 0px 1px 3px 1px rgba(60, 64, 67, 0.15);\n",
              "      fill: #174EA6;\n",
              "    }\n",
              "\n",
              "    [theme=dark] .colab-df-convert {\n",
              "      background-color: #3B4455;\n",
              "      fill: #D2E3FC;\n",
              "    }\n",
              "\n",
              "    [theme=dark] .colab-df-convert:hover {\n",
              "      background-color: #434B5C;\n",
              "      box-shadow: 0px 1px 3px 1px rgba(0, 0, 0, 0.15);\n",
              "      filter: drop-shadow(0px 1px 2px rgba(0, 0, 0, 0.3));\n",
              "      fill: #FFFFFF;\n",
              "    }\n",
              "  </style>\n",
              "\n",
              "      <script>\n",
              "        const buttonEl =\n",
              "          document.querySelector('#df-edf41b32-70c6-4087-8e6d-dcae8c7857a7 button.colab-df-convert');\n",
              "        buttonEl.style.display =\n",
              "          google.colab.kernel.accessAllowed ? 'block' : 'none';\n",
              "\n",
              "        async function convertToInteractive(key) {\n",
              "          const element = document.querySelector('#df-edf41b32-70c6-4087-8e6d-dcae8c7857a7');\n",
              "          const dataTable =\n",
              "            await google.colab.kernel.invokeFunction('convertToInteractive',\n",
              "                                                     [key], {});\n",
              "          if (!dataTable) return;\n",
              "\n",
              "          const docLinkHtml = 'Like what you see? Visit the ' +\n",
              "            '<a target=\"_blank\" href=https://colab.research.google.com/notebooks/data_table.ipynb>data table notebook</a>'\n",
              "            + ' to learn more about interactive tables.';\n",
              "          element.innerHTML = '';\n",
              "          dataTable['output_type'] = 'display_data';\n",
              "          await google.colab.output.renderOutput(dataTable, element);\n",
              "          const docLink = document.createElement('div');\n",
              "          docLink.innerHTML = docLinkHtml;\n",
              "          element.appendChild(docLink);\n",
              "        }\n",
              "      </script>\n",
              "    </div>\n",
              "  </div>\n",
              "  "
            ],
            "text/plain": [
              "   gender   age  hypertension  ...        bmi  smoking_status  stroke\n",
              "0       1  67.0             0  ...  36.600000               1       1\n",
              "1       0  61.0             0  ...  28.893237               2       1\n",
              "2       1  80.0             0  ...  32.500000               2       1\n",
              "3       0  49.0             0  ...  34.400000               3       1\n",
              "4       0  79.0             1  ...  24.000000               2       1\n",
              "\n",
              "[5 rows x 11 columns]"
            ]
          },
          "metadata": {},
          "execution_count": 27
        }
      ]
    },
    {
      "cell_type": "markdown",
      "source": [
        "**SPLIT THE DATASET INTO X & Y**"
      ],
      "metadata": {
        "id": "fsTgpp95ux9o"
      }
    },
    {
      "cell_type": "code",
      "source": [
        "X = df.drop('stroke', axis=1)\n",
        "y = df['stroke']\n",
        "from sklearn.model_selection import train_test_split\n",
        "\n",
        "X_train, X_test, y_train, y_test = train_test_split(X, y, test_size=0.3, random_state=0)\n",
        "\n",
        "print(\"Number transactions X_train dataset: \", X_train.shape)\n",
        "print(\"Number transactions y_train dataset: \", y_train.shape)\n",
        "print(\"Number transactions X_test dataset: \", X_test.shape)\n",
        "print(\"Number transactions y_test dataset: \", y_test.shape)"
      ],
      "metadata": {
        "id": "LpyWQk0Hu2qI",
        "colab": {
          "base_uri": "https://localhost:8080/"
        },
        "outputId": "9b3673b8-6e2c-435b-d779-def8e51aa29b"
      },
      "execution_count": 28,
      "outputs": [
        {
          "output_type": "stream",
          "name": "stdout",
          "text": [
            "Number transactions X_train dataset:  (3577, 10)\n",
            "Number transactions y_train dataset:  (3577,)\n",
            "Number transactions X_test dataset:  (1533, 10)\n",
            "Number transactions y_test dataset:  (1533,)\n"
          ]
        }
      ]
    },
    {
      "cell_type": "markdown",
      "source": [
        "**5. HANDLING IMBALANCED DATA**"
      ],
      "metadata": {
        "id": "fgBrKonzu7-F"
      }
    },
    {
      "cell_type": "markdown",
      "source": [
        "**WE WILL BE USING SMOTE TECHNIQUE TO HANDLE THE IMBALANCED DATA**"
      ],
      "metadata": {
        "id": "_0fGyyZwvAQa"
      }
    },
    {
      "cell_type": "code",
      "source": [
        "from imblearn.over_sampling import SMOTE\n",
        "\n",
        "print(\"Before OverSampling, counts of label '1': {}\".format(sum(y_train==1)))\n",
        "print(\"Before OverSampling, counts of label '0': {} \\n\".format(sum(y_train==0)))\n",
        "\n",
        "sm = SMOTE(random_state=2)\n",
        "X_train_res, y_train_res = sm.fit_resample(X_train, y_train.ravel())\n",
        "\n",
        "print('After OverSampling, the shape of train_X: {}'.format(X_train_res.shape))\n",
        "print('After OverSampling, the shape of train_y: {} \\n'.format(y_train_res.shape))\n",
        "\n",
        "print(\"After OverSampling, counts of label '1': {}\".format(sum(y_train_res==1)))\n",
        "print(\"After OverSampling, counts of label '0': {}\".format(sum(y_train_res==0)))"
      ],
      "metadata": {
        "id": "meSDZoF-vItk",
        "colab": {
          "base_uri": "https://localhost:8080/"
        },
        "outputId": "aad0dc8e-dd64-4af7-ea30-a1a085eb0896"
      },
      "execution_count": 29,
      "outputs": [
        {
          "output_type": "stream",
          "name": "stdout",
          "text": [
            "Before OverSampling, counts of label '1': 173\n",
            "Before OverSampling, counts of label '0': 3404 \n",
            "\n",
            "After OverSampling, the shape of train_X: (6808, 10)\n",
            "After OverSampling, the shape of train_y: (6808,) \n",
            "\n",
            "After OverSampling, counts of label '1': 3404\n",
            "After OverSampling, counts of label '0': 3404\n"
          ]
        }
      ]
    },
    {
      "cell_type": "markdown",
      "source": [
        "**THE DATA IS NOW BALANCED !!!!!!!!!**"
      ],
      "metadata": {
        "id": "j63Iz6cHvMPj"
      }
    },
    {
      "cell_type": "markdown",
      "source": [
        "**6. MODEL BUILDING USING THE PRE-PROCESSED / BALANCED DATASET.**"
      ],
      "metadata": {
        "id": "F1TpMvH8vQek"
      }
    },
    {
      "cell_type": "code",
      "source": [
        "from sklearn.preprocessing import StandardScaler\n",
        "import matplotlib.pyplot as plt\n",
        "from sklearn.metrics import accuracy_score \n",
        "from xgboost import XGBClassifier\n",
        "from sklearn.ensemble import RandomForestClassifier\n",
        "from sklearn.linear_model import LogisticRegression\n",
        "\n",
        "from sklearn.metrics import accuracy_score, classification_report\n",
        "import numpy as np\n",
        "rdf_model = RandomForestClassifier()\n",
        "rdf_model.fit(X_train_res, y_train_res)\n",
        "y_pred = rdf_model.predict(X_test)\n",
        "print('Training Score: {}'.format(rdf_model.score(X_train_res, y_train_res)))\n",
        "print('Test Score: {}'.format(rdf_model.score(X_test, y_test)))\n",
        "print(classification_report(y_test, y_pred))\n",
        "accuracy_score(y_test, y_pred,normalize=True, sample_weight=None)"
      ],
      "metadata": {
        "id": "obhEW6Z_vTwG",
        "colab": {
          "base_uri": "https://localhost:8080/"
        },
        "outputId": "543745e0-aea8-4c5f-c740-6a95736baed1"
      },
      "execution_count": 30,
      "outputs": [
        {
          "output_type": "stream",
          "name": "stdout",
          "text": [
            "Training Score: 1.0\n",
            "Test Score: 0.9015003261578604\n",
            "              precision    recall  f1-score   support\n",
            "\n",
            "           0       0.95      0.94      0.95      1457\n",
            "           1       0.11      0.14      0.13        76\n",
            "\n",
            "    accuracy                           0.90      1533\n",
            "   macro avg       0.53      0.54      0.54      1533\n",
            "weighted avg       0.91      0.90      0.91      1533\n",
            "\n"
          ]
        },
        {
          "output_type": "execute_result",
          "data": {
            "text/plain": [
              "0.9015003261578604"
            ]
          },
          "metadata": {},
          "execution_count": 30
        }
      ]
    },
    {
      "cell_type": "code",
      "source": [
        "xgb_model = XGBClassifier()\n",
        "xgb_model.fit(X_train_res, y_train_res)\n",
        "y_pred = xgb_model.predict(X_test)\n",
        "print('Training Score: {}'.format(xgb_model.score(X_train_res, y_train_res)))\n",
        "print('Test Score: {}'.format(xgb_model.score(X_test, y_test)))\n",
        "print(classification_report(y_test, y_pred))\n",
        "accuracy_score(y_test, y_pred,normalize=True, sample_weight=None)"
      ],
      "metadata": {
        "id": "rMQhu0nBvWxV",
        "colab": {
          "base_uri": "https://localhost:8080/"
        },
        "outputId": "2ac39ae7-2b5f-4eae-a30c-f7acfd1380d9"
      },
      "execution_count": 31,
      "outputs": [
        {
          "output_type": "stream",
          "name": "stdout",
          "text": [
            "Training Score: 0.8901292596944771\n",
            "Test Score: 0.817351598173516\n",
            "              precision    recall  f1-score   support\n",
            "\n",
            "           0       0.97      0.83      0.90      1457\n",
            "           1       0.13      0.49      0.21        76\n",
            "\n",
            "    accuracy                           0.82      1533\n",
            "   macro avg       0.55      0.66      0.55      1533\n",
            "weighted avg       0.93      0.82      0.86      1533\n",
            "\n"
          ]
        },
        {
          "output_type": "execute_result",
          "data": {
            "text/plain": [
              "0.817351598173516"
            ]
          },
          "metadata": {},
          "execution_count": 31
        }
      ]
    },
    {
      "cell_type": "code",
      "source": [
        "\n",
        "log=LogisticRegression()\n",
        "log.fit(X_train_res, y_train_res)\n",
        "y_pred = log.predict(X_test)\n",
        "print('Training Score: {}'.format(log.score(X_train_res, y_train_res)))\n",
        "print('Test Score: {}'.format(log.score(X_test, y_test)))\n",
        "print(classification_report(y_test, y_pred))\n",
        "accuracy_score(y_test, y_pred,normalize=True, sample_weight=None)"
      ],
      "metadata": {
        "id": "tVAJLu6QenbJ",
        "colab": {
          "base_uri": "https://localhost:8080/"
        },
        "outputId": "33369cdd-2cb4-40c0-edb2-3f04907e75d1"
      },
      "execution_count": 32,
      "outputs": [
        {
          "output_type": "stream",
          "name": "stdout",
          "text": [
            "Training Score: 0.8034665099882491\n",
            "Test Score: 0.7619047619047619\n",
            "              precision    recall  f1-score   support\n",
            "\n",
            "           0       0.97      0.77      0.86      1457\n",
            "           1       0.12      0.58      0.19        76\n",
            "\n",
            "    accuracy                           0.76      1533\n",
            "   macro avg       0.54      0.68      0.53      1533\n",
            "weighted avg       0.93      0.76      0.83      1533\n",
            "\n"
          ]
        },
        {
          "output_type": "execute_result",
          "data": {
            "text/plain": [
              "0.7619047619047619"
            ]
          },
          "metadata": {},
          "execution_count": 32
        }
      ]
    },
    {
      "cell_type": "code",
      "source": [
        "from sklearn.svm import SVC\n",
        "svc = SVC()\n",
        "svc.fit(X_train_res, y_train_res)\n",
        "y_pred = svc.predict(X_test)\n",
        "print('Training Score: {}'.format(svc.score(X_train_res, y_train_res)))\n",
        "print('Test Score: {}'.format(svc.score(X_test, y_test)))\n",
        "print(classification_report(y_test, y_pred))\n",
        "accuracy_score(y_test, y_pred,normalize=True, sample_weight=None)"
      ],
      "metadata": {
        "id": "eXEzw6W4f62L",
        "colab": {
          "base_uri": "https://localhost:8080/"
        },
        "outputId": "e88a2612-fb60-42d5-af94-ab0bbf5e13ec"
      },
      "execution_count": 34,
      "outputs": [
        {
          "output_type": "stream",
          "name": "stdout",
          "text": [
            "Training Score: 0.7923031727379554\n",
            "Test Score: 0.7051532941943901\n",
            "              precision    recall  f1-score   support\n",
            "\n",
            "           0       0.99      0.70      0.82      1457\n",
            "           1       0.12      0.80      0.21        76\n",
            "\n",
            "    accuracy                           0.71      1533\n",
            "   macro avg       0.55      0.75      0.52      1533\n",
            "weighted avg       0.94      0.71      0.79      1533\n",
            "\n"
          ]
        },
        {
          "output_type": "execute_result",
          "data": {
            "text/plain": [
              "0.7051532941943901"
            ]
          },
          "metadata": {},
          "execution_count": 34
        }
      ]
    },
    {
      "cell_type": "code",
      "source": [
        "\n",
        "models=['RFC','XGB','LR','SVM']\n",
        "accuracy=[0.90,0.81,0.76,0.70]\n",
        "plt.plot(models,accuracy,'b-o');\n",
        "plt.xlabel('MODELS')\n",
        "plt.ylabel('Accuracy')\n",
        "plt.legend()\n",
        "plt.show()"
      ],
      "metadata": {
        "id": "_pFM50E5pGOt",
        "outputId": "5d96ce94-9b81-4456-ece1-85cca0a5a453",
        "colab": {
          "base_uri": "https://localhost:8080/",
          "height": 297
        }
      },
      "execution_count": 35,
      "outputs": [
        {
          "output_type": "stream",
          "name": "stderr",
          "text": [
            "No handles with labels found to put in legend.\n"
          ]
        },
        {
          "output_type": "display_data",
          "data": {
            "image/png": "[encoded data removed]",
            "text/plain": [
              "<Figure size 432x288 with 1 Axes>"
            ]
          },
          "metadata": {
            "needs_background": "light"
          }
        }
      ]
    },
    {
      "cell_type": "markdown",
      "source": [
        "**summary** - if it is important for us to identify all people who may have a stroke (good recall), then it is best to cope with this task with Random Forest.\n",
        "\n",
        "Predicting a stroke based on basic data seems like something fantastic, but the fact that Random Forest without tuning and only with 5110 observations can find ~70% of those who have had a stroke is an excellent result!\n",
        "\n",
        "But, in my opinion, the number of people for this medical analysis is very small, it would be more interesting and practical to make an analysis on a sample of 100 thousand or more people.\n",
        "\n"
      ],
      "metadata": {
        "id": "Upbgbijwvdcl"
      }
    }
  ]
}